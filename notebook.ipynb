{
 "cells": [
  {
   "cell_type": "code",
   "execution_count": 8,
   "metadata": {},
   "outputs": [
    {
     "data": {
      "text/plain": [
       "'Two Hundred and Forty Three Dollars and Forty Five Cents'"
      ]
     },
     "execution_count": 8,
     "metadata": {},
     "output_type": "execute_result"
    }
   ],
   "source": [
    "exampleInput = 243.45\n",
    "\n",
    "def numberToWords(num):\n",
    "    ones = [\"\", \"One\", \"Two\", \"Three\", \"Four\", \"Five\", \"Six\", \"Seven\", \"Eight\", \"Nine\"]\n",
    "    tens = [\"\", \"\", \"Twenty\", \"Thirty\", \"Forty\", \"Fifty\", \"Sixty\", \"Seventy\", \"Eighty\", \"Ninety\"]\n",
    "    teens = [\"Ten\", \"Eleven\", \"Twelve\", \"Thirteen\", \"Fourteen\", \"Fifteen\", \"Sixteen\", \"Seventeen\", \"Eighteen\", \"Nineteen\"]\n",
    "    thousands = [\"\", \"Thousand\", \"Million\", \"Billion\", \"Trillion\", \"Quadrillion\", \"Quintillion\", \"Sextillion\", \"Septillion\", \"Octillion\", \"Nonillion\"]\n",
    "    \n",
    "    numToStr = str(num)\n",
    "    wholeNumber = numToStr.split(\".\")[0]\n",
    "    decimalParts = numToStr.split(\".\")[1]\n",
    "\n",
    "    decimalPartsToWords = \"\"\n",
    "    wholeNumberToWords = \"\"\n",
    "\n",
    "    # Convert decimal parts to words\n",
    "    if int(decimalParts) // 10 == 0:\n",
    "        decimalPartsToWords = ones[int(decimalParts)] + \" Cents\"\n",
    "\n",
    "    if int(decimalParts) // 10 == 1:\n",
    "        decimalPartsToWords = teens[int(decimalParts) % 10] + \" Cents\"\n",
    "\n",
    "    if int(decimalParts) // 10 > 1:\n",
    "        decimalPartsToWords = tens[int(decimalParts) // 10] + \" \" + ones[int(decimalParts) % 10] + \" Cents\"\n",
    "\n",
    "    if int(wholeNumber) == 0:\n",
    "        return \"Zero Dollars and \" + decimalPartsToWords\n",
    "\n",
    "    partOfWholeNumber = \"\"\n",
    "\n",
    "    for i, n in enumerate(wholeNumber[::-1]):\n",
    "        if i % 3 == 0:\n",
    "            partOfWholeNumber = ones[int(n)] + thousands[i // 3] + partOfWholeNumber\n",
    "        if i % 3 == 1:\n",
    "            if n == \"0\":\n",
    "                continue\n",
    "            if n == \"1\":\n",
    "                partOfWholeNumber = teens[int(n + wholeNumber[::-1][i-1])] + thousands[i // 3]\n",
    "            else:\n",
    "                partOfWholeNumber = tens[int(n)] + \" \" + partOfWholeNumber\n",
    "        if i % 3 == 2:\n",
    "            if n == \"0\":\n",
    "                wholeNumberToWords += partOfWholeNumber\n",
    "                continue\n",
    "            \n",
    "            partOfWholeNumber = ones[int(n)] + \" Hundred and \" + partOfWholeNumber\n",
    "            wholeNumberToWords += partOfWholeNumber\n",
    "\n",
    "    return wholeNumberToWords + \" Dollars and \" + decimalPartsToWords\n",
    "\n",
    "\n",
    "numberToWords(exampleInput)"
   ]
  }
 ],
 "metadata": {
  "kernelspec": {
   "display_name": "tf",
   "language": "python",
   "name": "python3"
  },
  "language_info": {
   "codemirror_mode": {
    "name": "ipython",
    "version": 3
   },
   "file_extension": ".py",
   "mimetype": "text/x-python",
   "name": "python",
   "nbconvert_exporter": "python",
   "pygments_lexer": "ipython3",
   "version": "3.10.11"
  }
 },
 "nbformat": 4,
 "nbformat_minor": 2
}
