{
 "cells": [
  {
   "cell_type": "code",
   "execution_count": 30,
   "metadata": {},
   "outputs": [],
   "source": [
    "def numberToWords(num):\n",
    "    # Lists containing the words for the numbers\n",
    "    ones = [\"\", \"One\", \"Two\", \"Three\", \"Four\", \"Five\", \"Six\", \"Seven\", \"Eight\", \"Nine\"]\n",
    "    tens = [\"\", \"\", \"Twenty\", \"Thirty\", \"Forty\", \"Fifty\", \"Sixty\", \"Seventy\", \"Eighty\", \"Ninety\"]\n",
    "    teens = [\"Ten\", \"Eleven\", \"Twelve\", \"Thirteen\", \"Fourteen\", \"Fifteen\", \"Sixteen\", \"Seventeen\", \"Eighteen\", \"Nineteen\"]\n",
    "    thousands = [\"\", \"Thousand\", \"Million\", \"Billion\", \"Trillion\", \"Quadrillion\", \"Quintillion\", \"Sextillion\", \"Septillion\", \"Octillion\", \"Nonillion\"]\n",
    "    \n",
    "    # Split the number into whole number and decimal parts\n",
    "    numToStr = str(num)\n",
    "    wholeNumber = numToStr.split(\".\")[0]\n",
    "    decimalParts = numToStr.split(\".\")[1]\n",
    "\n",
    "    # Empty strings to store the words\n",
    "    decimalPartsToWords = \"\"\n",
    "    wholeNumberToWords = \"\"\n",
    "\n",
    "    # Convert decimal parts to words\n",
    "    if int(decimalParts) // 10 == 0:\n",
    "        decimalPartsToWords = ones[int(decimalParts)] + \" Cents\"\n",
    "\n",
    "    if int(decimalParts) // 10 == 1:\n",
    "        decimalPartsToWords = teens[int(decimalParts) % 10] + \" Cents\"\n",
    "\n",
    "    if int(decimalParts) // 10 > 1:\n",
    "        decimalPartsToWords = tens[int(decimalParts) // 10] + \" \" + ones[int(decimalParts) % 10] + \" Cents\"\n",
    "\n",
    "    if int(wholeNumber) == 0:\n",
    "        return \"Zero Dollars and \" + decimalPartsToWords\n",
    "\n",
    "    partOfWholeNumber = \"\"\n",
    "\n",
    "    # I've reversed the whole number and then I use // to find the word for the every thousand and % to find the words for the 3 numbers inside the thousand\n",
    "    for i, n in enumerate(wholeNumber[::-1]):\n",
    "        if i % 3 == 0:\n",
    "            if i // 3 == 0:\n",
    "                partOfWholeNumber = ones[int(n)] + \" \"\n",
    "                continue\n",
    "            partOfWholeNumber = ones[int(n)] + \" \" + thousands[i // 3] + \" \" + partOfWholeNumber\n",
    "        if i % 3 == 1:\n",
    "            if n == \"0\":\n",
    "                continue\n",
    "            if n == \"1\":\n",
    "                partOfWholeNumber = teens[int(n + wholeNumber[::-1][i-1])] + thousands[i // 3]\n",
    "            else:\n",
    "                partOfWholeNumber = tens[int(n)] + \" \" + partOfWholeNumber\n",
    "        if i % 3 == 2:\n",
    "            if n == \"0\":\n",
    "                wholeNumberToWords = partOfWholeNumber + wholeNumberToWords\n",
    "                partOfWholeNumber = \"\"\n",
    "\n",
    "                continue\n",
    "            \n",
    "            wholeNumberToWords = ones[int(n)] + \" Hundred and \" + partOfWholeNumber + wholeNumberToWords\n",
    "            partOfWholeNumber = \"\"\n",
    "\n",
    "        # print(\"Part of whole number: \", partOfWholeNumber)\n",
    "        # print(\"Whole Number: \", wholeNumberToWords)\n",
    "\n",
    "    if i % 3 < 2:\n",
    "        # print(\"Inside\")\n",
    "        wholeNumberToWords = partOfWholeNumber + wholeNumberToWords\n",
    "\n",
    "    # Add the decimal part and return the result\n",
    "    return wholeNumberToWords + \"Dollars and \" + decimalPartsToWords"
   ]
  },
  {
   "cell_type": "code",
   "execution_count": 32,
   "metadata": {},
   "outputs": [
    {
     "data": {
      "text/plain": [
       "'Two Billion Three Hundred and One Million Nine Hundred and Eighty One Thousand Two Hundred and Forty Three Dollars and Forty Five Cents'"
      ]
     },
     "execution_count": 32,
     "metadata": {},
     "output_type": "execute_result"
    }
   ],
   "source": [
    "exampleInput = 0002301981243.45\n",
    "\n",
    "numberToWords(exampleInput)"
   ]
  }
 ],
 "metadata": {
  "kernelspec": {
   "display_name": "tf",
   "language": "python",
   "name": "python3"
  },
  "language_info": {
   "codemirror_mode": {
    "name": "ipython",
    "version": 3
   },
   "file_extension": ".py",
   "mimetype": "text/x-python",
   "name": "python",
   "nbconvert_exporter": "python",
   "pygments_lexer": "ipython3",
   "version": "3.10.11"
  }
 },
 "nbformat": 4,
 "nbformat_minor": 2
}
